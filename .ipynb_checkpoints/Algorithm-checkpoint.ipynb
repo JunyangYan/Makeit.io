{
 "cells": [
  {
   "cell_type": "markdown",
   "id": "f0168352-be19-4e3f-85a8-a67e1f393ae1",
   "metadata": {},
   "source": [
    "# 🧠 Algorithm\n",
    "\n",
    "## 📘 Table of Contents\n",
    "- [Fibonacci](#Fibonacci)\n",
    "- [find the maximum number of apples](#find-the-maximum-number-of-apples)\n",
    "- [Decimal to Hex](#Decimal to Hex)\n",
    "- [Increase the number or decrease the number](#Increase the number or decrease the number)\n",
    "- [consecutive string](#consecutive string)\n",
    "- [find the maximum number of apples](#find-the-maximum-number-of-apples)\n",
    "Given a number N, find a closest distance to a Fibonacci number. - leetcode 509 or https://www.geeksforgeeks.org/python/python-program-to-print-the-fibonacci-sequence/\n",
    "Leetcode 1196\n",
    "Leetcode 1271\n",
    "Leecode 1243\n",
    "Leetcode 1180\n",
    "\n",
    "https://github.com/qjing0927/leetcodeAlgorithmSolution/blob/68bcfe067d93dc297207d1d1afdfbd9cb727d538/src/learnandtry/VirtuOnlineTest.java\n"
   ]
  },
  {
   "cell_type": "markdown",
   "id": "6ada6279-04da-4f00-93a0-78cbd76a8f9a",
   "metadata": {},
   "source": [
    "## Live coding part: connect four game. Two players place items in order, into a 6x7 stack. The input is a 1-d array, representing which column to put. e.g. [0 0 1 1 0 ….]. Player 1 places item first, then player 2 places, then again player 1 …. If any player has four continuous items, (can be horizontally, vertically or diagonally), print the message: “player 1 or 2 wins in x-th move”. If no one wins, print “Draw”. If the invalid move appears, print “x-th move is invalid”\n",
    "只把horizontal和vertical写完时间就不够了，horizontal部分写完后先跑了一下测试，确保整个代码能运行"
   ]
  },
  {
   "cell_type": "markdown",
   "id": "b4266d34-b764-45ce-8651-1c324cff6137",
   "metadata": {},
   "source": [
    "## Fibonacci\n",
    "\n",
    "Write a function:\n",
    "\n",
    "`def solution (X)`\n",
    "\n",
    "that, given an integer X, returns an integer that corresponds to the minimum number of steps required to change X to a Fibonacci number.\n",
    "\n",
    "In each step you can either increment or decrement the current number,\n",
    "i.e. you can change X to either X+1 or X-1.\n",
    "\n",
    "X will be between 0 and 1,000,000 inclusive.\n",
    "\n",
    "The Fibonacci sequence is defined as follows:\n",
    "\n",
    "F[0] = 0  \n",
    "F[1] = 1\n",
    "\n",
    "for each i >= 2: F[i] = F[i-1] + F[i-2]\n",
    "\n",
    "The elements of the Fibonacci sequence are called Fibonacci numbers.\n",
    "\n",
    "For example, for X = 15 the function should return 2.\n",
    "For X = 1 and X = 13 the function should return 0.\n",
    "\n",
    "Return the integer that corresponds to the minimum number of steps required to change X to a Fibonacci number.\n",
    "\n",
    "Hint: \n",
    "每次变化可以加1或者减1。\n",
    "其实就是求与A离得最近的那个Fibonacci number与A的差值\n",
    "简单迭代即可，注意当X是fibonacci的时候直接返回0\n",
    "很简单，搞一个array一个一个fibonacci数填就行了。"
   ]
  },
  {
   "cell_type": "markdown",
   "id": "841f20f6-3630-4e51-9e13-393771fc2cc7",
   "metadata": {},
   "source": [
    "## find the maximum number of apples\n",
    "\n",
    "There is a box with a capacity of 5000 grams. The box may already contain some items, reducing its capacity. You'll be adding apples to that box until it is full. Write a function:  \n",
    "\n",
    "`def solution (A)`  \n",
    "\n",
    "that, given a zero-indexed array A consisting of N integers, representing the weight of items already in the box and each apple's weight, returns the maximum number of apples that could fit in the box, without exceeding its capacity. \n",
    "\n",
    "The input array consists of an integer K as the first element, representing the sum of the weights of items already contained in the box followed by zero or more integers representing individual apple weights.  \n",
    "\n",
    "You can assume that A contains between 1 and 100 elements and that\n",
    "every number in it is >=0 and <= 5000.  \n",
    "\n",
    "Note that an apple can weigh 0 grams, and that you should maximize the number of the apples in the box, not their total weight.  \n",
    "\n",
    "For example, for an input of:\n",
    "[4650, 150, 150, 150]   \n",
    "\n",
    "You should return 2, as the box already contains K=4650 grams of items, so only 2 more apples of weight 150 would fit (bringing the total weight to 4950, still below the capacity).\n",
    "\n",
    "For an input of:\n",
    "[4850, 100, 30, 30, 100, 50, 100]\n",
    "You should return 3, as you could put in two 30-gram apples and the 50-gram apple.\n",
    "\n",
    "\n",
    "一个篮子可以装5000重量的苹果，给你一个数组\n",
    "0的位置是篮子已经有的重量，剩下的是每个苹果的重量，问篮子里能放多少苹果。\n",
    "容量为5000的篮子，已经装了一定的重量，然后给你一堆苹果和每个苹果的重量，问最多能装多少个苹果\n",
    "Greedy?\n",
    "原题当中有提到苹果的序列是sort过的吗（重量从小到大），或者苹果必须按照给定的顺序装？如果苹果的序列不是有序的，直接用greedy去process不一定会给出最优解，比如[4000, 2000, 100, 100, 100,.... 100]。需要先sort苹果序列，保证轻的苹果在前面，这样用贪心法从前向后依次加入盒子直至没有空间，才能保证获得“max number of apples\"。\n",
    " target = 5000 - A[0],  然后对A[1:]排序，有可能全部苹果都取到，所以注意下标。\n",
    "\n",
    " 很简单，greedy algorithm 就行了。 假设全部放完，然后先把大的拿出来，当刚好小于5000的时候停下来\n"
   ]
  },
  {
   "cell_type": "markdown",
   "id": "9ec297dc-18e3-47b4-bcf5-21db94f542fd",
   "metadata": {},
   "source": [
    "## Decimal to Hex\n",
    "\n",
    "Write a function:\n",
    "\n",
    "`def solution (S)` \n",
    "\n",
    "that, given a string S encoding a decimal integer N, returns a string representing the Hexspeak representation H of N if H is a valid Hexspeak word, otherwise it should return \"ERROR\".   \n",
    "\n",
    "A decimal number can be converted to Hexspeak by first converting it to hexadecimal, then converting the number 0 to the letter \"O\" and the number 1 to the letter \"I\". A string is considered a valid Hexspeak word if it consists of only the ABCDEFIO letters.   \n",
    "\n",
    "The input string S will represent a decimal integer between 1 and 1,000,000,000,000 inclusive.  \n",
    "\n",
    "Example:  \n",
    "\n",
    "If the input string S is \"257\", the decimal number it encodes is 257 which is written as 101 in hexadecimal. Since 1 and 0 represent \"I\" and \"O\", respectively, we should return \"IOI\"   \n",
    "\n",
    "If the input string is \"3\", it is written as 3 in hexadecimal, which does not represent a Hexspeak letter, so we return \"ERROR\".  \n",
    "\n",
    "All answers should be in uppercase letters.\n",
    "\n",
    "\n",
    "给你一个数字，把它从十进制转换成十六进制，所有的1可以变成I， 所有的0可以变成O，\n",
    "如果只含有字母，就return这个string，否则return“ERROR”，\n",
    "比如25A，就是ERROR，101，就是IOI。\n",
    "如果直接用str to int的function转化成int的话应该会出现overflow（我猜这也是input是一个string的原因。大多数语言都有string to int的util，但是我估计后台隐藏的test cases里面有可能检查overflow的case，如果直接用util可能会出错）。我猜想这里安全的做法是手动对input string进行除法（不断除16），就像列竖式算除法一样，要一个个digit process。\n",
    "如果用 hex(int(S)) 来转化成16进制的话， 注意返回的是以‘0x’开头的字符串，并且是小写的abcdef, 题目要求大写输出\n",
    "在python直接用hex换成十六进制后if else statement找出 23456789就行了。"
   ]
  },
  {
   "cell_type": "markdown",
   "id": "8c34a2dd-b632-4844-ab3a-823f1cb6d333",
   "metadata": {},
   "source": [
    "## Increase the number or decrease the number\n",
    "\n",
    "Write a function:\n",
    "\n",
    "`def solution(A)`  \n",
    "\n",
    "that, given a zero-indexed array A consisting of N integers representing the initial test scores of a row of students, returns an array of integers representing their final test scores (in the same order).  \n",
    "\n",
    "There is a group of students sat next to each other in a row. Each day, students study together and take a test at the end of the day. Test scores for a given student can only change once per day as follows: \n",
    "- If a student sits immediately between two students with better scores, that student's score will improve by 1 when they take the\n",
    "test. \n",
    "- If a student sits between two students with worse scores, that student's test score will decrease by 1.\n",
    "\n",
    "This process will repeat each day as long as at least one student keeps changing their score. Note that the first and last student in the row never change their scores as they never sit between two students.  \n",
    "\n",
    "Return an array representing the final test scores for each student once their scores fully stop changing.  \n",
    "\n",
    "Example 1:\n",
    "Input: [1, 6, 3, 4, 3, 5]\n",
    "Returns: [1, 4, 4, 4, 4, 5]  \n",
    "\n",
    "On the first day, the second student's score will decrease, the third student's score will increase, the fourth student's score will decrease by 1 and the fifth student's score will increase by 1, i.e. [1, 5, 4, 3, 4, 5].\n",
    "\n",
    "On the second day, the second student's score will decrease again and the fourth student's score will\n",
    "increase, i.e. [1, 4, 4, 4, 4, 5). There will be no more changes in scores after that.\n",
    "\n",
    "Example 2:\n",
    "Input: [100, 50, 40, 30]\n",
    "Returns: [100, 50, 40, 30]\n",
    "No students changed score.\n",
    "\n",
    "You can assume that:\n",
    "• The number of students is in the range from 1 to 1,000.\n",
    "• Student's scores are in the range from 0 to 1,000.\n",
    "\n",
    "一个list是学生成绩，除去两端，学生neighborhood都比他高，他下一次+1，都比他低，他下一次-1。要求返回平衡后的成绩。\n",
    "\n",
    "给你一个数组，比如[6,2,3,4]，从左到右，如果一个数比左右的都小，就变大一个\n",
    "比左右的都大就变小一个, 直到不变为止。收尾两个数不能动。\n",
    "[6,2,3,4]就变成[6,3,3,4]\n",
    "student scores那道题我翻车就在于 明明知道可以用Temporary array来存储\n",
    "贪心的不想要那么高space complexity结果牺牲了time complexity\n",
    "最后来不及改了就哭死\n",
    "\n",
    "就是用一个back up list，循环，满足条件就-1 或者+1 判断的时候通过原来的list去判断\n",
    "\n",
    "直接模拟即可，注意先把原序列复制下来再操作。数据大小1000，值域也是1000， 所以最多1000 * 1000次一定可以完成\n",
    "\n",
    "我用while循环来做，易错点在于你需要创造一个新的数组来记录每个entry变化情况，每次循环结束之前再一起update 到原来input 数组。当然，可能有更好的办法。"
   ]
  },
  {
   "cell_type": "markdown",
   "id": "1adc5b0b-305b-4ff5-8645-bfbda5c52dbf",
   "metadata": {},
   "source": [
    "## consecutive string\n",
    "\n",
    "\n",
    "Write a function: \n",
    "\n",
    "`def solution(S)`   \n",
    "\n",
    "that, given a string S, returns an integer that represents the number of ways in which we can select a non-empty substring of S where all of the characters of the substring are identical. Two substrings with the same letters but different locations are still considered different.   \n",
    "\n",
    "For example, the string \"zzzyz\" contains 8 such substrings. Four instances of \"z\", two of \"zz\", one of \"zzz\" and one instance of \"y\".\n",
    "\n",
    "String \"k\" contains only one such substring: \"k\".\n",
    "\n",
    "The length of S will be between 1 and 100, inclusive.\n",
    "\n",
    "Each character in S will be a lowercase letter (a-z).\n",
    "\n",
    "a string - 求他只包含连续的相同字母substring有多少个，\n",
    "比如aaaba就是3+2+1+1+1=8个\n",
    "a, a, a, b, a, aa, aa, aaa，位置不同的重复字符串也算\n",
    "\n",
    "\n",
    "计算组合出现的次数，比如zzz就是6次，因为有3个z，2个zz和1个zzz 所以如果你要在多加一个z 就相当于多加了n中组合，所以就是一个等差公式 (1+n)*n/2; 做一个循环 sliding window到相同字母结束 然后套用等差公式 ， 然后reset sliding window 继续循环\n",
    "\n",
    "可以使用 itertools.groupby 生成字符串的 Run length encoding,\n",
    "一行代码解法：return sum([ n * (n+1) // 2 for n in [len(list(gsp)) for _, gsp in itertools.groupby(S)] ])\n",
    "\n",
    "写一个double for loop就行了。\n"
   ]
  },
  {
   "cell_type": "markdown",
   "id": "da072dd0-7a66-451d-9453-00ac9f614adc",
   "metadata": {},
   "source": [
    "## linked list"
   ]
  },
  {
   "cell_type": "markdown",
   "id": "d027c458-e50d-4a15-a202-d42b228a3812",
   "metadata": {},
   "source": [
    "## 汉诺塔问题程序"
   ]
  },
  {
   "cell_type": "markdown",
   "id": "9b1c31b8-7718-4c85-8331-9aab77dd1eb5",
   "metadata": {},
   "source": [
    "## array 和linked list 存储方式上有什么不同，你什么时候会用array什么时候用Linked list"
   ]
  },
  {
   "cell_type": "markdown",
   "id": "0511af74-ebb0-41e7-9a0b-0228d1b97f44",
   "metadata": {},
   "source": [
    "## 给你两个string，问第一个字符串的所有character是否能在第二个string中找到，第一个字符串的string需要在第二个字符串中按顺序出现。比如str1 = \"def\", str2 = \"acdjhekinf\", str3 = \"ankjemnfknd\"，str1在str2中出现而不在str3中出现。此外问了延伸的问题，比如这个问题如何实现O(n2)时间复杂度，如果str1是一堆string算法如何改进，如果数据量太大是否可以多线程计算。"
   ]
  },
  {
   "cell_type": "markdown",
   "id": "14aee82a-77cf-463b-a4e2-0c85a551ed9a",
   "metadata": {},
   "source": [
    "## 如果需要运作一个cov martix，用什么data structure。然后问了一堆pass 进function 需要注意什么，其实就是在问const的用法。 之后又问了一堆堆的pointer问题，还有lvaue 和rvalue的区别（是受了pointer的启发嘛。。。）， 之后一堆继承的问题。最后又问了一个不难的算法，具体题目是给你function 来pass一个最大值，在这个function里会generate一个不大于最大值的list。 问你如何用线性的时间复杂度来做sorting。"
   ]
  },
  {
   "cell_type": "markdown",
   "id": "acce8ee4-5bb4-4559-b12b-7acc456b1289",
   "metadata": {},
   "source": [
    "## 口述max stack implementation实现get max in O(1) time，我说store a pair of (value, max value so far) for each element in the stack，followup问有没有更space efficient的做法，我说存一个list of tuples (start of current max-value piece, max value). Followup让我估测这个list of tuples的expected长度，\n",
    "\n",
    "第二问长度的期望值应该是ln n . 添加第i个数时，这个数有1/i的几率成为新的最大值，需要存储空间。所以答案为sum_{i=1}^{n} \\approx \\ln n\n"
   ]
  },
  {
   "cell_type": "markdown",
   "id": "0df4a54a-2a93-4b67-937b-8616a86b8507",
   "metadata": {},
   "source": [
    "## Linux related八股，比如系统结构，Cache架构，基础commands选择(比如要查找一个文件，用什么command；或者系统出了bug, 最先考虑查看什么blah blah blah), "
   ]
  },
  {
   "cell_type": "markdown",
   "id": "2c7283e6-d4e5-4f80-a0a9-86088220d609",
   "metadata": {},
   "source": [
    "## Write some code to efficiently print an m x n matrix in a spiral fashion. i.e. Print the first element in the\n",
    "top left and then all the elements along the top row moving to the right, down the right side to the bottom right,\n",
    "across the bottom row to the bottom left, up the left side to just below the top corner, etc. until every element\n",
    "in the matrix has been printed once (and only once).\n",
    "example:\n",
    "matrix = [\n",
    "        [1, 2, 3],\n",
    "        [4, 5, 6],\n",
    "        [7, 8, 9]  \n",
    "    ]\n",
    "result = [1, 2, 3, 6, 9, 8, 7, 4, 5]"
   ]
  },
  {
   "cell_type": "markdown",
   "id": "1cabfbf4-1684-4896-a1b3-08a76b33f36c",
   "metadata": {},
   "source": [
    "## 算法考的是利口唔似, 给了两个optimal solution, 还是挂了, 估计就是挂在bt了"
   ]
  },
  {
   "cell_type": "markdown",
   "id": "4b8d3eb6-5bca-49b6-9e7c-61d2af3380a4",
   "metadata": {},
   "source": [
    "## 第一题是个经典的鞋带的问题，然后一个可以想象成tic tac toe的问题\n",
    "\n",
    "鞋带问题就是1 + 1/3 + 1/5 + 1/7 +... 这个咯\n",
    "\n",
    "tictactoe你如果遇到了肯定会知道的 总之 just know that tic tac toe is a tie game if 双方使用最佳策略。\n"
   ]
  },
  {
   "cell_type": "markdown",
   "id": "187fb6ba-6d69-40ce-a5d0-e42bd5b7e843",
   "metadata": {},
   "source": [
    "## 利口liuliu\n",
    "\n",
    "第一题我做过，给出了一种简单解法。面试官会问时间空间度以及追问是否有优化解（不要求写下来）。写完解法后要求写一个test function并将题目input放进去。"
   ]
  },
  {
   "cell_type": "markdown",
   "id": "452a53fa-9d9b-4cf3-bb3d-ffd3f4889f44",
   "metadata": {},
   "source": [
    "## 利口jiu ba qi的简化版本\n",
    "\n",
    "第二题简化成不要求输出list of list而是只要list就行，并且同一纵向维度不要求按照深度输出。写完后问时间空间度以及追问如何优化。同样需要写test function。"
   ]
  },
  {
   "cell_type": "markdown",
   "id": "44531cb3-c0f9-439c-ab68-0ff6e60895d0",
   "metadata": {},
   "source": [
    "reference:\n",
    "1. https://www.1point3acres.com/bbs/thread-553625-1-1.html\n",
    "2. https://www.1point3acres.com/bbs/thread-920329-1-1.html"
   ]
  }
 ],
 "metadata": {
  "kernelspec": {
   "display_name": "Python [conda env:base] *",
   "language": "python",
   "name": "conda-base-py"
  },
  "language_info": {
   "codemirror_mode": {
    "name": "ipython",
    "version": 3
   },
   "file_extension": ".py",
   "mimetype": "text/x-python",
   "name": "python",
   "nbconvert_exporter": "python",
   "pygments_lexer": "ipython3",
   "version": "3.11.5"
  }
 },
 "nbformat": 4,
 "nbformat_minor": 5
}
