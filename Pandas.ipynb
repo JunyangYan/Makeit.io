{
 "cells": [
  {
   "cell_type": "code",
   "execution_count": null,
   "id": "080c3e6a-ebab-480d-a0b4-8f7ff2a75ccc",
   "metadata": {},
   "outputs": [],
   "source": [
    "python panda如何把两个表加在一起\n",
    "\n",
    "Random Python questions. Eg explain break, continue...\n",
    "\n",
    "问了Feature Engineering的一些步骤和主要技巧\n",
    "\n",
    "how would you use pandas and what's the disadvantage of it?\n",
    "\n",
    "how to deal with large data set\n"
   ]
  }
 ],
 "metadata": {
  "kernelspec": {
   "display_name": "Python [conda env:base] *",
   "language": "python",
   "name": "conda-base-py"
  },
  "language_info": {
   "codemirror_mode": {
    "name": "ipython",
    "version": 3
   },
   "file_extension": ".py",
   "mimetype": "text/x-python",
   "name": "python",
   "nbconvert_exporter": "python",
   "pygments_lexer": "ipython3",
   "version": "3.11.5"
  }
 },
 "nbformat": 4,
 "nbformat_minor": 5
}
